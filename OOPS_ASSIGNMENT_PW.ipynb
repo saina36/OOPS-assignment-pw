{
  "nbformat": 4,
  "nbformat_minor": 0,
  "metadata": {
    "colab": {
      "provenance": []
    },
    "kernelspec": {
      "name": "python3",
      "display_name": "Python 3"
    },
    "language_info": {
      "name": "python"
    }
  },
  "cells": [
    {
      "cell_type": "markdown",
      "source": [
        "#PWSKILLS ASSIGNMENT\n",
        "##OOPS\n",
        "###THEORY QUESTIONS\n",
        "\n",
        "1. What is Object-Oriented Programming (OOP)?\n",
        "\n",
        "OOP is a programming paradigm based on the concept of classes and objects. It emphasizes reusability, modularity, and data security through key principles like Encapsulation, Abstraction, Inheritance, and Polymorphism.\n",
        "\n",
        "2. What is a class in OOP?\n",
        "\n",
        "A class is a blueprint or template for creating objects. It defines attributes (variables) and methods (functions) that describe the behavior of the object.\n",
        "\n",
        "3. What is an object in OOP?\n",
        "\n",
        "An object is an instance of a class. Each object has its own unique data but follows the structure defined by the class.\n",
        "\n",
        "4. What is the difference between abstraction and encapsulation?\n",
        "- Abstraction: Hides complex implementation and shows only the necessary features. Focuses on what the object does. Achieved using abstract classes and interfaces.  \n",
        "- Encapsulation: Bundles data (attributes) and methods into a single unit (class). Focuses on how the object’s data is protected. Achieved using private and protected access modifiers.       |\n",
        "\n",
        "\n",
        "5. What are dunder methods in Python?\n",
        "\n",
        "Dunder (Magic or special)  methods are special methods in Python that start and end with double underscores (__).\n",
        "Examples: __init__() (constructor), __str__() (string representation), __len__() (length).\n",
        "6. Explain the concept of inheritance in OOP.\n",
        "\n",
        "Inheritance allows one class (child class) to inherit attributes and methods from another class (parent class).\n",
        "7. What is polymorphism in OOP?\n",
        "\n",
        "Polymorphism means the same method behaves differently based on the object calling it.\n",
        "8. How is encapsulation achieved in Python?\n",
        "\n",
        "Encapsulation is achieved by using private (__variable) and protected (_variable) attributes to restrict access.\n",
        "9. What is a constructor in Python?\n",
        "\n",
        "A constructor is a special method called automatically when an object is created. In Python, __init__() acts as the constructor.\n",
        "10. What are class and static methods in Python?\n",
        "\n",
        "Class Method (@classmethod): Used when you need to modify the class state. It takes cls as its first parameter.\n",
        "Static Method (@staticmethod): Independent of the class instance; no self or cls is required.\n",
        "11. What is method overloading in Python?\n",
        "\n",
        "Python doesn’t support traditional method overloading (same method with different parameters). However, you can achieve it using default arguments or *args.\n",
        "12. What is method overriding in OOP?\n",
        "\n",
        "Method overriding allows a child class to provide its own implementation for a method inherited from the parent class.\n",
        "13. What is a property decorator in Python?\n",
        "\n",
        "The @property decorator is used to define a method that behaves like an attribute, allowing access to a method without calling it explicitly.\n",
        "\n",
        "14. Why is polymorphism important in OOP?\n",
        "\n",
        "Polymorphism allows objects of different classes to be treated as objects of a common superclass, enhancing flexibility and code reusability.\n",
        "\n",
        "15. What is an abstract class in Python?\n",
        "\n",
        "An abstract class is a class that cannot be instantiated and must be inherited by other classes. It defines abstract methods that must be implemented in child classes.\n",
        "\n",
        "16. What are the advantages of OOP?\n",
        "\n",
        "The advantages of OOP include reusability, modularity, security through encapsulation, flexibility via polymorphism, and scalability for expanding code structure.\n",
        "\n",
        "17. What is the difference between a class variable and an instance variable?\n",
        "\n",
        "A class variable is shared across all instances of the class and is defined outside methods, while an instance variable is unique to each object and is defined inside methods using self.\n",
        "\n",
        "18. What is multiple inheritance in Python?\n",
        "\n",
        "Multiple inheritance allows a class to inherit from more than one parent class, combining their properties and methods.\n",
        "\n",
        "19. xplain the purpose of __str__ and __repr__ methods in Python.\n",
        "\n",
        "The __str__() method provides a readable string representation for end users, while the __repr__() method provides an unambiguous string representation for developers.\n",
        "\n",
        "20. What is the significance of the super() function in Python?\n",
        "\n",
        "The super() function is used to call a method from the parent class, ensuring code reusability and avoiding repetitive code in inheritance.\n",
        "\n",
        "21. What is the significance of the __del__ method in Python?\n",
        "\n",
        "The __del__() method is called when an object is deleted or goes out of scope, acting as a destructor to clean up resources.\n",
        "\n",
        "22. What is the difference between @staticmethod and @classmethod in Python?\n",
        "\n",
        "@staticmethod is independent of the class instance and doesn’t access self or cls, while @classmethod works with the class itself and takes cls as its first parameter.\n",
        "\n",
        "23. How does polymorphism work in Python with inheritance?\n",
        "\n",
        "Polymorphism in Python allows child classes to define methods with the same name as those in the parent class, behaving differently in each class.\n",
        "\n",
        "24. What is method chaining in Python OOP?\n",
        "\n",
        "Method chaining allows multiple methods to be called on the same object in a single statement by returning self from each method.\n",
        "\n",
        "25. What is the purpose of the __call__ method in Python?\n",
        "\n",
        "The __call__() method allows an object to be called as if it were a function, enabling customized callable behavior for class instances.\n"
      ],
      "metadata": {
        "id": "rM_sSEh5SizG"
      }
    },
    {
      "cell_type": "markdown",
      "source": [
        "###PRACTICAL QUESTIONS\n",
        "1.  Create a parent class Animal with a method speak() that prints a generic message. Create a child class Dog\n",
        "that overrides the speak() method to print \"Bark!\"."
      ],
      "metadata": {
        "id": "gSTRX4exxFmt"
      }
    },
    {
      "cell_type": "code",
      "execution_count": null,
      "metadata": {
        "id": "Cnnk4MkYSFZD",
        "colab": {
          "base_uri": "https://localhost:8080/"
        },
        "outputId": "727e12ed-7210-4cc0-9f7f-ebfeaca94228"
      },
      "outputs": [
        {
          "output_type": "stream",
          "name": "stdout",
          "text": [
            "Bark!\n"
          ]
        }
      ],
      "source": [
        "class Animal:\n",
        "  def speak(self):\n",
        "    print(\"Generic message\")\n",
        "\n",
        "class Dog(Animal):\n",
        "  def speak(self):\n",
        "    print(\"Bark!\")\n",
        "\n",
        "obj1 = Dog()\n",
        "obj1.speak()"
      ]
    },
    {
      "cell_type": "code",
      "source": [
        "obj2=Animal()\n",
        "obj2.speak()\n"
      ],
      "metadata": {
        "colab": {
          "base_uri": "https://localhost:8080/"
        },
        "id": "pAlbRQ-4RoNl",
        "outputId": "eb14718e-907a-4b6b-cf85-5fac2db23abd"
      },
      "execution_count": null,
      "outputs": [
        {
          "output_type": "stream",
          "name": "stdout",
          "text": [
            "Generic message\n"
          ]
        }
      ]
    },
    {
      "cell_type": "markdown",
      "source": [
        "2.  Write a program to create an abstract class Shape with a method area(). Derive classes Circle and Rectangle\n",
        "from it and implement the area() method in both."
      ],
      "metadata": {
        "id": "8AkMzPXZSRTe"
      }
    },
    {
      "cell_type": "code",
      "source": [
        "from abc import abstractmethod\n",
        "class Shapes:\n",
        "  @abstractmethod\n",
        "  def area(self):\n",
        "    pass\n",
        "\n",
        "class Circle(Shapes):\n",
        "  def area(self,r):\n",
        "    return 3.14*r*r\n",
        "\n",
        "class Rectangle(Shapes):\n",
        "  def area(self,l,b):\n",
        "    return l*b\n",
        "round=Circle()\n",
        "print(round.area(5))\n",
        "rect=Rectangle()\n",
        "print(rect.area(5,6))"
      ],
      "metadata": {
        "colab": {
          "base_uri": "https://localhost:8080/"
        },
        "id": "O4lI0g04SCcm",
        "outputId": "327a4aa2-8d8e-4eae-b95e-549f6b1e4f09"
      },
      "execution_count": null,
      "outputs": [
        {
          "output_type": "stream",
          "name": "stdout",
          "text": [
            "78.5\n",
            "30\n"
          ]
        }
      ]
    },
    {
      "cell_type": "markdown",
      "source": [
        "3.  Implement a multi-level inheritance scenario where a class Vehicle has an attribute type. Derive a class Car\n",
        "and further derive a class ElectricCar that adds a battery attribute."
      ],
      "metadata": {
        "id": "EESMJvWKTIvd"
      }
    },
    {
      "cell_type": "code",
      "source": [
        "class Vehicle:\n",
        "  def __init__(self,type):\n",
        "    self.type=type\n",
        "\n",
        "class Car:\n",
        "  def __init__(self,color):\n",
        "    self.color=color\n",
        "\n",
        "class ElectricCar(Car):\n",
        "  def __init__(self,battery):\n",
        "    self.battery=battery\n",
        "\n",
        "car1=ElectricCar(\"10000\")\n",
        "print(car1.battery)\n",
        "car1.color=\"red\"\n",
        "print(car1.color)\n",
        "car1.type=\"Electric\"\n",
        "print(car1.type)\n",
        "print(car1)"
      ],
      "metadata": {
        "id": "MBdk1XxNS79W",
        "colab": {
          "base_uri": "https://localhost:8080/"
        },
        "outputId": "ddcbddb9-5041-4915-beef-28cf7e515b49"
      },
      "execution_count": 21,
      "outputs": [
        {
          "output_type": "stream",
          "name": "stdout",
          "text": [
            "10000\n",
            "red\n",
            "Electric\n",
            "<__main__.ElectricCar object at 0x785fdd224fd0>\n"
          ]
        }
      ]
    },
    {
      "cell_type": "markdown",
      "source": [
        "4.  Demonstrate polymorphism by creating a base class Bird with a method fly(). Create two derived classes\n",
        "Sparrow and Penguin that override the fly() method.\n"
      ],
      "metadata": {
        "id": "NTcDN7gnhEA-"
      }
    },
    {
      "cell_type": "code",
      "source": [
        "class Bird:\n",
        "  def fly(self):\n",
        "    print(\"Birds can fly\")\n",
        "\n",
        "class Sparrow(Bird):\n",
        "  def fly(self):\n",
        "    print(\"Sparrows can fly\")\n",
        "\n",
        "class Penguin(Bird):\n",
        "  def fly(self):\n",
        "    print(\"Penguins can't fly\")\n",
        "\n",
        "def demonstrate_flight(bird):\n",
        "    bird.fly()\n",
        "\n",
        "bird1 = Sparrow()\n",
        "bird2 = Penguin()\n",
        "\n",
        "demonstrate_flight(bird1)\n",
        "demonstrate_flight(bird2)"
      ],
      "metadata": {
        "colab": {
          "base_uri": "https://localhost:8080/"
        },
        "id": "rLAFDO6_gH3H",
        "outputId": "47818bd8-b23f-444e-a915-8fee2c90ae40"
      },
      "execution_count": 23,
      "outputs": [
        {
          "output_type": "stream",
          "name": "stdout",
          "text": [
            "Sparrows can fly\n",
            "Penguins can't fly\n"
          ]
        }
      ]
    },
    {
      "cell_type": "markdown",
      "source": [
        "5.  Write a program to demonstrate encapsulation by creating a class BankAccount with private attributes\n",
        "balance and methods to deposit, withdraw, and check balance."
      ],
      "metadata": {
        "id": "qn-ruVwzhoPC"
      }
    },
    {
      "cell_type": "code",
      "source": [
        "class Bankaccount:\n",
        "  def __init__(self,balance):\n",
        "    self.__balance=balance\n",
        "  def deposit(self,amount):\n",
        "    self.__balance+=amount\n",
        "  def withdraw(self,amount):\n",
        "    if self.__balance>=amount:\n",
        "      self.__balance-=amount\n",
        "    else:\n",
        "      print(\"Insufficient balance\")\n",
        "  def check_balance(self):\n",
        "    return self.__balance\n",
        "\n",
        "account1=Bankaccount(1000)\n",
        "print(account1.check_balance())\n",
        "account1.deposit(500)\n",
        "print(account1.check_balance())\n",
        "account1.withdraw(2000)\n",
        "print(account1.check_balance())\n",
        "account1.withdraw(500)\n",
        "print(account1.check_balance())\n"
      ],
      "metadata": {
        "colab": {
          "base_uri": "https://localhost:8080/"
        },
        "id": "HarkaWGHiNQf",
        "outputId": "583abe4c-f424-4738-eacf-b6c0c01eb95a"
      },
      "execution_count": 27,
      "outputs": [
        {
          "output_type": "stream",
          "name": "stdout",
          "text": [
            "1000\n",
            "1500\n",
            "Insufficient balance\n",
            "1500\n",
            "1000\n"
          ]
        }
      ]
    },
    {
      "cell_type": "code",
      "source": [
        "account1._Bankaccount__balance"
      ],
      "metadata": {
        "colab": {
          "base_uri": "https://localhost:8080/"
        },
        "id": "wDxxFLXYiT98",
        "outputId": "dfea1dfd-43fa-4d80-d93c-eec96b6b134d"
      },
      "execution_count": 34,
      "outputs": [
        {
          "output_type": "execute_result",
          "data": {
            "text/plain": [
              "1000"
            ]
          },
          "metadata": {},
          "execution_count": 34
        }
      ]
    },
    {
      "cell_type": "markdown",
      "source": [
        "6. Demonstrate runtime polymorphism using a method play() in a base class Instrument. Derive classes Guitar\n",
        "and Piano that implement their own version of play().\n",
        "\n",
        "\n"
      ],
      "metadata": {
        "id": "Z4mpSmQsj6S_"
      }
    },
    {
      "cell_type": "code",
      "source": [
        "class Instrument:\n",
        "  def play(self):\n",
        "    print(\"Instrument is playing\")\n",
        "\n",
        "class Guitar(Instrument):\n",
        "  def play(self):\n",
        "    print(\"Guitar is playing\")\n",
        "\n",
        "class Piano(Instrument):\n",
        "  def play(self):\n",
        "    print(\"Piano is playing\")\n",
        "\n",
        "Instrument1=Guitar()\n",
        "Instrument1.play()\n",
        "Instrument2=Piano()\n",
        "Instrument2.play()\n",
        "Instrument3=Instrument()\n",
        "Instrument3.play()"
      ],
      "metadata": {
        "colab": {
          "base_uri": "https://localhost:8080/"
        },
        "id": "IWRouUJIjRM0",
        "outputId": "a81dfed4-4735-40ac-e476-4cea7eaacc06"
      },
      "execution_count": 37,
      "outputs": [
        {
          "output_type": "stream",
          "name": "stdout",
          "text": [
            "Guitar is playing\n",
            "Piano is playing\n",
            "Instrument is playing\n"
          ]
        }
      ]
    },
    {
      "cell_type": "markdown",
      "source": [
        "7.  Create a class MathOperations with a class method add_numbers() to add two numbers and a static\n",
        "method subtract_numbers() to subtract two numbers."
      ],
      "metadata": {
        "id": "O9EzI6makqCG"
      }
    },
    {
      "cell_type": "code",
      "source": [
        "class Mathoperations:\n",
        "  @classmethod\n",
        "  def add_numbers(cls,a,b):\n",
        "    return a+b\n",
        "  @staticmethod\n",
        "  def subtract_numbers(a,b):\n",
        "    return a-b\n",
        "\n",
        "print(Mathoperations.add_numbers(10,5))\n",
        "print(Mathoperations.subtract_numbers(10,5))"
      ],
      "metadata": {
        "colab": {
          "base_uri": "https://localhost:8080/"
        },
        "id": "G3Ms_wGBkT26",
        "outputId": "6861f696-afdd-402f-d449-5bdd7031cddb"
      },
      "execution_count": 40,
      "outputs": [
        {
          "output_type": "stream",
          "name": "stdout",
          "text": [
            "15\n",
            "5\n"
          ]
        }
      ]
    },
    {
      "cell_type": "markdown",
      "source": [
        "8. Implement a class Person with a class method to count the total number of persons created.\n"
      ],
      "metadata": {
        "id": "NtNzDOR9lVkc"
      }
    },
    {
      "cell_type": "code",
      "source": [
        "class Person:\n",
        "  count=0\n",
        "  def __init__(self,name,age):\n",
        "    self.name=name\n",
        "    self.age=age\n",
        "    Person.count+=1\n",
        "  @classmethod\n",
        "  def total_persons(cls):\n",
        "    return cls.count\n",
        "person1=Person(\"saina\",22)\n",
        "person2=Person(\"asif\",21)\n",
        "print(Person.total_persons())"
      ],
      "metadata": {
        "colab": {
          "base_uri": "https://localhost:8080/"
        },
        "id": "gDV1v2Idk54M",
        "outputId": "1a200d23-48f9-4cd8-b598-d5c6f8ac6585"
      },
      "execution_count": 50,
      "outputs": [
        {
          "output_type": "stream",
          "name": "stdout",
          "text": [
            "2\n"
          ]
        }
      ]
    },
    {
      "cell_type": "markdown",
      "source": [
        "9. Write a class Fraction with attributes numerator and denominator. Override the str method to display the\n",
        "fraction as \"numerator/denominator\"."
      ],
      "metadata": {
        "id": "9cabGu8nmHhn"
      }
    },
    {
      "cell_type": "code",
      "source": [
        "class Fraction:\n",
        "  def __init__(self,numerator,denominator):\n",
        "    self.numerator=numerator\n",
        "    self.denominator=denominator\n",
        "  def __str__(self):\n",
        "    return f\"{self.numerator}/{self.denominator}\"\n",
        "\n",
        "fraction1=Fraction(3,4)\n",
        "print(fraction1)"
      ],
      "metadata": {
        "colab": {
          "base_uri": "https://localhost:8080/"
        },
        "id": "wl0cz-UyljR4",
        "outputId": "f1123f0b-b908-4033-d64e-004445580de2"
      },
      "execution_count": 44,
      "outputs": [
        {
          "output_type": "stream",
          "name": "stdout",
          "text": [
            "3/4\n"
          ]
        }
      ]
    },
    {
      "cell_type": "markdown",
      "source": [
        "10. Demonstrate operator overloading by creating a class Vector and overriding the add method to add two\n",
        "vectors."
      ],
      "metadata": {
        "id": "qG0MraJOmkLY"
      }
    },
    {
      "cell_type": "code",
      "source": [
        "class Vector:\n",
        "  def __init__(self,x,y):\n",
        "    self.x=x\n",
        "    self.y=y\n",
        "  def __add__(self,other):\n",
        "    return Vector(self.x+other.x,self.y+other.y)\n",
        "v1 = Vector(3, 4)\n",
        "v2 = Vector(1, 2)\n",
        "v3 = v1 + v2\n",
        "print(v3.x, v3.y)"
      ],
      "metadata": {
        "colab": {
          "base_uri": "https://localhost:8080/"
        },
        "id": "ueGNrjTtmZoE",
        "outputId": "0f2b0494-7cd1-48d1-db28-88615864ad31"
      },
      "execution_count": 46,
      "outputs": [
        {
          "output_type": "stream",
          "name": "stdout",
          "text": [
            "4 6\n"
          ]
        }
      ]
    },
    {
      "cell_type": "markdown",
      "source": [
        "11.  Create a class Person with attributes name and age. Add a method greet() that prints \"Hello, my name is\n",
        "{name} and I am {age} years old.\""
      ],
      "metadata": {
        "id": "EmzZFukWpYs5"
      }
    },
    {
      "cell_type": "code",
      "source": [
        "class Person:\n",
        "  def __init__(self,name,age):\n",
        "    self.name=name\n",
        "    self.age=age\n",
        "  def greet(self):\n",
        "    print(f\"Hello, my name is {self.name} and I am {self.age} years old.\")\n",
        "\n",
        "person1=Person(\"saina\",22)\n",
        "person1.greet()\n"
      ],
      "metadata": {
        "colab": {
          "base_uri": "https://localhost:8080/"
        },
        "id": "0ETToDVmnErp",
        "outputId": "20a39066-b358-474a-debe-e094e27d620c"
      },
      "execution_count": 49,
      "outputs": [
        {
          "output_type": "stream",
          "name": "stdout",
          "text": [
            "Hello, my name is saina and I am 22 years old.\n"
          ]
        }
      ]
    },
    {
      "cell_type": "markdown",
      "source": [
        "12.  Implement a class Student with attributes name and grades. Create a method average_grade() to compute\n",
        "the average of the grades."
      ],
      "metadata": {
        "id": "1M465IADqT7C"
      }
    },
    {
      "cell_type": "code",
      "source": [
        "class Student:\n",
        "  def __init__(self,name,grades):\n",
        "    self.name=name\n",
        "    self.grades=grades\n",
        "  def average_grade(self):\n",
        "    return sum(self.grades)/len(self.grades)\n",
        "per1=Student(\"saina\",[90,80,70])\n",
        "print(per1.average_grade())"
      ],
      "metadata": {
        "colab": {
          "base_uri": "https://localhost:8080/"
        },
        "id": "TdUxs5izqkni",
        "outputId": "68989ceb-a069-437a-9a0b-ec141963cc93"
      },
      "execution_count": 53,
      "outputs": [
        {
          "output_type": "stream",
          "name": "stdout",
          "text": [
            "80.0\n"
          ]
        }
      ]
    },
    {
      "cell_type": "markdown",
      "source": [
        "13.  Create a class Rectangle with methods set_dimensions() to set the dimensions and area() to calculate the\n",
        "area."
      ],
      "metadata": {
        "id": "ucmkoQQPqxoT"
      }
    },
    {
      "cell_type": "code",
      "source": [
        "class Rectangle:\n",
        "  def set_dimensions(self,length,width):\n",
        "    self.length=length\n",
        "    self.width=width\n",
        "  def area(self):\n",
        "    return self.length*self.width\n",
        "rect1=Rectangle()\n",
        "rect1.set_dimensions(5,6)\n",
        "print(rect1.area())"
      ],
      "metadata": {
        "colab": {
          "base_uri": "https://localhost:8080/"
        },
        "id": "RXlmfPEwqrdE",
        "outputId": "91ad8a7f-11c4-4b98-8a8f-7f6c63f9262a"
      },
      "execution_count": 57,
      "outputs": [
        {
          "output_type": "stream",
          "name": "stdout",
          "text": [
            "30\n"
          ]
        }
      ]
    },
    {
      "cell_type": "markdown",
      "source": [
        "14.  Create a class Employee with a method calculate_salary() that computes the salary based on hours worked\n",
        "and hourly rate. Create a derived class Manager that adds a bonus to the salary."
      ],
      "metadata": {
        "id": "UspRuNw4rdRX"
      }
    },
    {
      "cell_type": "code",
      "source": [
        "class Employee:\n",
        "  def calculate_salary(self,hours_worked,hourly_rate):\n",
        "    return hours_worked*hourly_rate\n",
        "class Manager(Employee):\n",
        "  def calculate_salary(self,hours_worked,hourly_rate):\n",
        "    salary=super().calculate_salary(hours_worked,hourly_rate)\n",
        "    return salary+1000\n",
        "emp1=Employee()\n",
        "print(emp1.calculate_salary(10,100))\n",
        "man1=Manager()\n",
        "print(man1.calculate_salary(10,100))"
      ],
      "metadata": {
        "colab": {
          "base_uri": "https://localhost:8080/"
        },
        "id": "z-7CnDj7rHTf",
        "outputId": "023b5d07-1347-4435-f8b2-0ba09dc0f3b5"
      },
      "execution_count": 59,
      "outputs": [
        {
          "output_type": "stream",
          "name": "stdout",
          "text": [
            "1000\n",
            "2000\n"
          ]
        }
      ]
    },
    {
      "cell_type": "markdown",
      "source": [
        "15.  Create a class Product with attributes name, price, and quantity. Implement a method total_price() that\n",
        "calculates the total price of the product."
      ],
      "metadata": {
        "id": "md-fdiL-r08h"
      }
    },
    {
      "cell_type": "code",
      "source": [
        "class Product:\n",
        "  def __init__(self,name,price,quantity):\n",
        "    self.name=name\n",
        "    self.price=price\n",
        "    self.quantity=quantity\n",
        "  def total_price(self):\n",
        "    return self.price*self.quantity\n",
        "product1=Product(\"pen\",10,2)\n",
        "print(product1.total_price())"
      ],
      "metadata": {
        "colab": {
          "base_uri": "https://localhost:8080/"
        },
        "id": "VROxE3pertWR",
        "outputId": "97d4266a-cf9c-4f84-fa43-8e4e8944dd83"
      },
      "execution_count": 63,
      "outputs": [
        {
          "output_type": "stream",
          "name": "stdout",
          "text": [
            "20\n"
          ]
        }
      ]
    },
    {
      "cell_type": "markdown",
      "source": [
        "16.  Create a class Animal with an abstract method sound(). Create two derived classes Cow and Sheep that\n",
        "implement the sound() method."
      ],
      "metadata": {
        "id": "fiQVa1bPsNUn"
      }
    },
    {
      "cell_type": "code",
      "source": [
        "class Animal:\n",
        "  def sound(self):\n",
        "    pass\n",
        "class Cow(Animal):\n",
        "  def sound(self):\n",
        "    print(\"Moo\")\n",
        "class Sheep(Animal):\n",
        "  def sound(self):\n",
        "    print(\"Baa\")\n",
        "animal1=Cow()\n",
        "animal1.sound()\n",
        "animal2=Sheep()\n",
        "animal2.sound()"
      ],
      "metadata": {
        "colab": {
          "base_uri": "https://localhost:8080/"
        },
        "id": "WcbvdUQBsIJz",
        "outputId": "4bd0a0b1-41b3-4fa5-f68a-e33bc9a0b268"
      },
      "execution_count": 66,
      "outputs": [
        {
          "output_type": "stream",
          "name": "stdout",
          "text": [
            "Moo\n",
            "Baa\n"
          ]
        }
      ]
    },
    {
      "cell_type": "markdown",
      "source": [
        "17. Create a class Book with attributes title, author, and year_published. Add a method get_book_info() that\n",
        "returns a formatted string with the book's details.\n"
      ],
      "metadata": {
        "id": "bDGRoa4AsgBy"
      }
    },
    {
      "cell_type": "code",
      "source": [
        "class Book:\n",
        "  def __init__(self,title,author,year_published):\n",
        "    self.title=title\n",
        "    self.author=author\n",
        "    self.year_published=year_published\n",
        "  def get_book_info(self):\n",
        "    return f\"Title: {self.title} ,Author: {self.author},Year Published: {self.year_published}\"\n",
        "book1=Book(\"The Alchemist\",\"Paulo Coelho\",1988)\n",
        "book1.get_book_info()"
      ],
      "metadata": {
        "colab": {
          "base_uri": "https://localhost:8080/",
          "height": 36
        },
        "id": "kxelIO7LsWCM",
        "outputId": "f5f96c04-a36a-4096-bc6d-506dc54fa7a2"
      },
      "execution_count": 71,
      "outputs": [
        {
          "output_type": "execute_result",
          "data": {
            "text/plain": [
              "'Title: The Alchemist ,Author: Paulo Coelho,Year Published: 1988'"
            ],
            "application/vnd.google.colaboratory.intrinsic+json": {
              "type": "string"
            }
          },
          "metadata": {},
          "execution_count": 71
        }
      ]
    },
    {
      "cell_type": "markdown",
      "source": [
        "18.  Create a class House with attributes address and price. Create a derived class Mansion that adds an\n",
        "attribute number_of_rooms."
      ],
      "metadata": {
        "id": "oyqFzuUts9D8"
      }
    },
    {
      "cell_type": "code",
      "source": [
        "class House:\n",
        "  def __init__(self,address,price):\n",
        "    self.address=address\n",
        "    self.price=price\n",
        "class Mansion(House):\n",
        "  def __init__(self,address,price,number_of_rooms):\n",
        "    super().__init__(address,price)\n",
        "    self.number_of_rooms = number_of_rooms\n",
        "\n",
        "house1 = House(\"123 Main Street\", 300000)\n",
        "mansion1 = Mansion(\"456 Luxury Lane\", 2000000, 10)\n",
        "\n",
        "print(house1.address, house1.price)\n",
        "print(mansion1.address, mansion1.price, mansion1.number_of_rooms)"
      ],
      "metadata": {
        "colab": {
          "base_uri": "https://localhost:8080/"
        },
        "id": "8nL6XEkmss8M",
        "outputId": "8d298c88-7d91-4bf0-de7e-9f169a68a8a7"
      },
      "execution_count": 76,
      "outputs": [
        {
          "output_type": "stream",
          "name": "stdout",
          "text": [
            "123 Main Street 300000\n",
            "456 Luxury Lane 2000000 10\n"
          ]
        }
      ]
    },
    {
      "cell_type": "code",
      "source": [],
      "metadata": {
        "id": "XnDBv5BTuwSU"
      },
      "execution_count": null,
      "outputs": []
    }
  ]
}